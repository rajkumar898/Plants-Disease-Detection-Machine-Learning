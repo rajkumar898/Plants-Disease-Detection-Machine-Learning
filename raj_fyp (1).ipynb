{
 "cells": [
  {
   "cell_type": "code",
   "execution_count": 99,
   "metadata": {},
   "outputs": [],
   "source": [
    "from sklearn import svm\n",
    "from sklearn.model_selection import train_test_split\n",
    "from sklearn.metrics import accuracy_score\n",
    "import pandas as pd"
   ]
  },
  {
   "cell_type": "code",
   "execution_count": 100,
   "metadata": {},
   "outputs": [
    {
     "data": {
      "text/html": [
       "<div>\n",
       "<style scoped>\n",
       "    .dataframe tbody tr th:only-of-type {\n",
       "        vertical-align: middle;\n",
       "    }\n",
       "\n",
       "    .dataframe tbody tr th {\n",
       "        vertical-align: top;\n",
       "    }\n",
       "\n",
       "    .dataframe thead th {\n",
       "        text-align: right;\n",
       "    }\n",
       "</style>\n",
       "<table border=\"1\" class=\"dataframe\">\n",
       "  <thead>\n",
       "    <tr style=\"text-align: right;\">\n",
       "      <th></th>\n",
       "      <th>contrast</th>\n",
       "      <th>correlation</th>\n",
       "      <th>energy</th>\n",
       "      <th>entropy</th>\n",
       "      <th>homogeneity</th>\n",
       "      <th>output</th>\n",
       "    </tr>\n",
       "  </thead>\n",
       "  <tbody>\n",
       "    <tr>\n",
       "      <th>0</th>\n",
       "      <td>0.730484</td>\n",
       "      <td>0.792608</td>\n",
       "      <td>0.088069</td>\n",
       "      <td>7.540140</td>\n",
       "      <td>0.765037</td>\n",
       "      <td>0</td>\n",
       "    </tr>\n",
       "    <tr>\n",
       "      <th>1</th>\n",
       "      <td>0.406403</td>\n",
       "      <td>0.876353</td>\n",
       "      <td>0.117659</td>\n",
       "      <td>7.254699</td>\n",
       "      <td>0.815166</td>\n",
       "      <td>0</td>\n",
       "    </tr>\n",
       "    <tr>\n",
       "      <th>2</th>\n",
       "      <td>0.635570</td>\n",
       "      <td>0.898905</td>\n",
       "      <td>0.063116</td>\n",
       "      <td>7.810925</td>\n",
       "      <td>0.788828</td>\n",
       "      <td>0</td>\n",
       "    </tr>\n",
       "    <tr>\n",
       "      <th>3</th>\n",
       "      <td>0.814017</td>\n",
       "      <td>0.860312</td>\n",
       "      <td>0.059063</td>\n",
       "      <td>7.757064</td>\n",
       "      <td>0.751398</td>\n",
       "      <td>0</td>\n",
       "    </tr>\n",
       "    <tr>\n",
       "      <th>4</th>\n",
       "      <td>0.525291</td>\n",
       "      <td>0.907818</td>\n",
       "      <td>0.080637</td>\n",
       "      <td>7.715684</td>\n",
       "      <td>0.825797</td>\n",
       "      <td>0</td>\n",
       "    </tr>\n",
       "  </tbody>\n",
       "</table>\n",
       "</div>"
      ],
      "text/plain": [
       "   contrast  correlation    energy   entropy  homogeneity  output\n",
       "0  0.730484     0.792608  0.088069  7.540140     0.765037       0\n",
       "1  0.406403     0.876353  0.117659  7.254699     0.815166       0\n",
       "2  0.635570     0.898905  0.063116  7.810925     0.788828       0\n",
       "3  0.814017     0.860312  0.059063  7.757064     0.751398       0\n",
       "4  0.525291     0.907818  0.080637  7.715684     0.825797       0"
      ]
     },
     "execution_count": 100,
     "metadata": {},
     "output_type": "execute_result"
    }
   ],
   "source": [
    "data = pd.read_csv('raj_fyp.csv')\n",
    "data.head()"
   ]
  },
  {
   "cell_type": "code",
   "execution_count": 120,
   "metadata": {},
   "outputs": [
    {
     "name": "stdout",
     "output_type": "stream",
     "text": [
      "   contrast   entropy\n",
      "0  0.730484  7.540140\n",
      "1  0.406403  7.254699\n",
      "2  0.635570  7.810925\n",
      "3  0.814017  7.757064\n",
      "4  0.525291  7.715684\n",
      "(862, 1)\n"
     ]
    }
   ],
   "source": [
    "X = data[[\"contrast\", \"entropy\"]]#data.drop(\"output\", axis=1)\n",
    "y = data[[\"output\"]]\n",
    "X_train , X_test , y_train, y_test = train_test_split(X, y, random_state=100, test_size=0.20)\n",
    "print(X.head())\n",
    "print(y_train.shape)"
   ]
  },
  {
   "cell_type": "code",
   "execution_count": 121,
   "metadata": {},
   "outputs": [
    {
     "data": {
      "text/plain": [
       "SVC(kernel='linear')"
      ]
     },
     "execution_count": 121,
     "metadata": {},
     "output_type": "execute_result"
    }
   ],
   "source": [
    "classifier = svm.SVC(kernel=\"linear\")\n",
    "classifier.fit(X_train, y_train.values.ravel())"
   ]
  },
  {
   "cell_type": "code",
   "execution_count": 122,
   "metadata": {},
   "outputs": [],
   "source": [
    "y_pred = classifier.predict(X_test)"
   ]
  },
  {
   "cell_type": "code",
   "execution_count": 123,
   "metadata": {},
   "outputs": [
    {
     "data": {
      "text/plain": [
       "0.6111111111111112"
      ]
     },
     "execution_count": 123,
     "metadata": {},
     "output_type": "execute_result"
    }
   ],
   "source": [
    "accuracy_score(y_test, y_pred)"
   ]
  },
  {
   "cell_type": "code",
   "execution_count": null,
   "metadata": {},
   "outputs": [],
   "source": []
  },
  {
   "cell_type": "code",
   "execution_count": null,
   "metadata": {},
   "outputs": [],
   "source": []
  },
  {
   "cell_type": "code",
   "execution_count": null,
   "metadata": {},
   "outputs": [],
   "source": []
  }
 ],
 "metadata": {
  "kernelspec": {
   "display_name": "Python 3",
   "language": "python",
   "name": "python3"
  },
  "language_info": {
   "codemirror_mode": {
    "name": "ipython",
    "version": 3
   },
   "file_extension": ".py",
   "mimetype": "text/x-python",
   "name": "python",
   "nbconvert_exporter": "python",
   "pygments_lexer": "ipython3",
   "version": "3.6.10"
  }
 },
 "nbformat": 4,
 "nbformat_minor": 4
}
